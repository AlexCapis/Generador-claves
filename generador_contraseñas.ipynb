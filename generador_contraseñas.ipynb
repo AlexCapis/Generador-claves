{
 "cells": [
  {
   "attachments": {},
   "cell_type": "markdown",
   "metadata": {},
   "source": [
    "# GENERADOR DE CONTASEÑAS ALEATORIAS:\n",
    "\n",
    "##### Enumeración de los pasos a seguir:\n",
    "\n",
    "    1.Importar los módulos random y string:\n",
    "    2. Definir la función generar_contrasena que tome un parámetro longitud:\n",
    "    3. Solicitar al usuario la longitud deseada de la contraseña:\n",
    "    4. Generar la contraseña llamando a la función generar_contrasena con la longitud proporcionada por el usuario:\n",
    "    5. Mostrar la contraseña generada en la consola:\n",
    "\n",
    "Seria necesario hacer un buen README explicando las distintas versiones de cómo ha ido mejorando el código y cuales son los beneficios.\n"
   ]
  },
  {
   "cell_type": "code",
   "execution_count": 1,
   "metadata": {},
   "outputs": [],
   "source": [
    "# me faltaria que al principio hubiera una función con las intrucciones a seguir y una especie de reomendaciones"
   ]
  },
  {
   "cell_type": "code",
   "execution_count": 23,
   "metadata": {},
   "outputs": [
    {
     "name": "stdout",
     "output_type": "stream",
     "text": [
      "¡Bienvenido al generador de contraseñas automáticas!\n",
      "Este generador creará una contraseña segura con la longitud que elijas.\n",
      "A continuación, se te pedirá que ingreses el número de caracteres deseados con el formato de número entero.\n",
      "Asegúrate de seguir las recomendaciones de seguridad al crear una contraseña.\n",
      "Evita usar información personal o secuencias comunes de caracteres.\n",
      "¡Comencemos!\n",
      "\n",
      "¡Contraseña generada exitosamente!\n",
      "Tu contraseña contiene 12 caracteres y es la siguiente: UUw@bg:BRw4\\\n"
     ]
    }
   ],
   "source": [
    "def generar_contrasena_auto():\n",
    "    print(\"¡Bienvenido al generador de contraseñas automáticas!\")\n",
    "    print(\"Este generador creará una contraseña segura con la longitud que elijas.\")\n",
    "    print(\"A continuación, se te pedirá que ingreses el número de caracteres deseados con el formato de número entero.\")\n",
    "    print(\"Asegúrate de seguir las recomendaciones de seguridad al crear una contraseña.\")\n",
    "    print(\"Evita usar información personal o secuencias comunes de caracteres.\")\n",
    "    print(\"¡Comencemos!\")\n",
    "\n",
    "    longitud = int(input(\"Ingresa el número de caracteres que quieres que contenga tu contraseña: \"))\n",
    "\n",
    "    caracteres = string.ascii_letters + string.digits + string.punctuation\n",
    "    contrasena = ''.join(random.choice(caracteres) for _ in range(longitud))\n",
    "    resultado = \"Tu contraseña contiene {} caracteres y es la siguiente: {}\".format(longitud, contrasena)\n",
    "\n",
    "    print(\"\\n¡Contraseña generada exitosamente!\")\n",
    "    print(resultado)\n",
    "\n",
    "generar_contrasena_auto()"
   ]
  },
  {
   "cell_type": "code",
   "execution_count": 24,
   "metadata": {},
   "outputs": [
    {
     "name": "stdout",
     "output_type": "stream",
     "text": [
      "¡Recomendaciones para crear contraseñas seguras!\n",
      "----------------------------------------\n",
      "1. Sé creativo: Combina letras mayúsculas y minúsculas.\n",
      "2. Añade números y evita información personal obvia.\n",
      "3. Utiliza caracteres especiales para mayor seguridad.\n",
      "4. Evita secuencias comunes o patrones predecibles.\n",
      "5. Mantén la privacidad, evita datos personales.\n",
      "6. Elige contraseñas con longitud suficiente.\n",
      "7. No reutilices contraseñas en diferentes cuentas.\n",
      "8. Actualiza tus contraseñas periódicamente.\n",
      "9. Considera el uso de un gestor de contraseñas.\n",
      "----------------------------------------\n",
      "\n"
     ]
    }
   ],
   "source": [
    "def mostrar_recomendaciones():\n",
    "    print(\"¡Recomendaciones para crear contraseñas seguras!\")\n",
    "    print(\"-\" * 40)\n",
    "    print(\"1. Sé creativo: Combina letras mayúsculas y minúsculas.\")\n",
    "    print(\"2. Añade números y evita información personal obvia.\")\n",
    "    print(\"3. Utiliza caracteres especiales para mayor seguridad.\")\n",
    "    print(\"4. Evita secuencias comunes o patrones predecibles.\")\n",
    "    print(\"5. Mantén la privacidad, evita datos personales.\")\n",
    "    print(\"6. Elige contraseñas con longitud suficiente.\")\n",
    "    print(\"7. No reutilices contraseñas en diferentes cuentas.\")\n",
    "    print(\"8. Actualiza tus contraseñas periódicamente.\")\n",
    "    print(\"9. Considera el uso de un gestor de contraseñas.\")\n",
    "    print(\"-\" * 40)\n",
    "    print()\n",
    "    \n",
    "mostrar_recomendaciones()"
   ]
  },
  {
   "cell_type": "code",
   "execution_count": 28,
   "metadata": {},
   "outputs": [
    {
     "name": "stdout",
     "output_type": "stream",
     "text": [
      "**************************************************\n",
      "¡Recomendaciones para crear contraseñas seguras!\n",
      "**************************************************\n",
      "1. Sé creativo: Combina letras mayúsculas y minúsculas.\n",
      "2. Añade números y evita información personal obvia.\n",
      "3. Utiliza caracteres especiales para mayor seguridad.\n",
      "4. Evita secuencias comunes o patrones predecibles.\n",
      "5. Mantén la privacidad, evita datos personales.\n",
      "6. Elige contraseñas con longitud suficiente.\n",
      "7. No reutilices contraseñas en diferentes cuentas.\n",
      "8. Actualiza tus contraseñas periódicamente.\n",
      "9. Considera el uso de un gestor de contraseñas.\n",
      "**************************************************\n",
      "\n"
     ]
    }
   ],
   "source": [
    "def mostrar_recomendaciones():\n",
    "    print(\"*\" * 50)\n",
    "    print(\"¡Recomendaciones para crear contraseñas seguras!\")\n",
    "    print(\"*\" * 50)\n",
    "    print(\"1. Sé creativo: Combina letras mayúsculas y minúsculas.\")\n",
    "    print(\"2. Añade números y evita información personal obvia.\")\n",
    "    print(\"3. Utiliza caracteres especiales para mayor seguridad.\")\n",
    "    print(\"4. Evita secuencias comunes o patrones predecibles.\")\n",
    "    print(\"5. Mantén la privacidad, evita datos personales.\")\n",
    "    print(\"6. Elige contraseñas con longitud suficiente.\")\n",
    "    print(\"7. No reutilices contraseñas en diferentes cuentas.\")\n",
    "    print(\"8. Actualiza tus contraseñas periódicamente.\")\n",
    "    print(\"9. Considera el uso de un gestor de contraseñas.\")\n",
    "    print(\"*\" * 50)\n",
    "    print()\n",
    "\n",
    "mostrar_recomendaciones()\n"
   ]
  },
  {
   "cell_type": "code",
   "execution_count": 29,
   "metadata": {},
   "outputs": [
    {
     "name": "stdout",
     "output_type": "stream",
     "text": [
      "**************************************************\n",
      " ¡RECOMENDACIONES PARA CREAR CONTRASEÑAS SEGURAS! \n",
      "**************************************************\n",
      "1. Sé creativo: Combina letras mayúsculas y minúsculas.\n",
      "2. Añade números y evita información personal obvia.\n",
      "3. Utiliza caracteres especiales para mayor seguridad.\n",
      "4. Evita secuencias comunes o patrones predecibles.\n",
      "5. Mantén la privacidad, evita datos personales.\n",
      "6. Elige contraseñas con longitud suficiente.\n",
      "7. No reutilices contraseñas en diferentes cuentas.\n",
      "8. Actualiza tus contraseñas periódicamente.\n",
      "9. Considera el uso de un gestor de contraseñas.\n",
      "**************************************************\n",
      "\n"
     ]
    }
   ],
   "source": [
    "import string\n",
    "import random\n",
    "\n",
    "def mostrar_recomendaciones():\n",
    "    titulo = \"¡Recomendaciones para crear contraseñas seguras!\"\n",
    "    linea = \"*\" * 50\n",
    "\n",
    "    print(linea)\n",
    "    print(titulo.upper().center(50))\n",
    "    print(linea)\n",
    "    print(\"1. Sé creativo: Combina letras mayúsculas y minúsculas.\")\n",
    "    print(\"2. Añade números y evita información personal obvia.\")\n",
    "    print(\"3. Utiliza caracteres especiales para mayor seguridad.\")\n",
    "    print(\"4. Evita secuencias comunes o patrones predecibles.\")\n",
    "    print(\"5. Mantén la privacidad, evita datos personales.\")\n",
    "    print(\"6. Elige contraseñas con longitud suficiente.\")\n",
    "    print(\"7. No reutilices contraseñas en diferentes cuentas.\")\n",
    "    print(\"8. Actualiza tus contraseñas periódicamente.\")\n",
    "    print(\"9. Considera el uso de un gestor de contraseñas.\")\n",
    "    print(linea)\n",
    "    print()\n",
    "\n",
    "mostrar_recomendaciones()\n"
   ]
  },
  {
   "cell_type": "code",
   "execution_count": 30,
   "metadata": {},
   "outputs": [
    {
     "name": "stdout",
     "output_type": "stream",
     "text": [
      "**************************************************\n",
      " ¡RECOMENDACIONES PARA CREAR CONTRASEÑAS SEGURAS! \n",
      "**************************************************\n",
      "1. Sé creativo: Combina letras mayúsculas y minúsculas. (Ejemplo: AbCdEfG)\n",
      "2. Añade números y evita información personal obvia. (Ejemplo: P4$$w0rd)\n",
      "3. Utiliza caracteres especiales para mayor seguridad. (Ejemplo: MyP@$$w0rd!)\n",
      "4. Evita secuencias comunes o patrones predecibles. (Ejemplo: QWERTY123)\n",
      "5. Mantén la privacidad, evita datos personales. (Ejemplo: JohnDoe1985)\n",
      "6. Elige contraseñas con longitud suficiente. (Ejemplo: MyLongPassword123)\n",
      "7. No reutilices contraseñas en diferentes cuentas. (Ejemplo: !Password123 para cada cuenta)\n",
      "8. Actualiza tus contraseñas periódicamente. (Ejemplo: UpdatePassword2023!)\n",
      "9. Considera el uso de un gestor de contraseñas. (Ejemplo: LastPass, 1Password)\n",
      "**************************************************\n",
      "\n"
     ]
    }
   ],
   "source": [
    "import string\n",
    "import random\n",
    "\n",
    "def mostrar_recomendaciones():\n",
    "    titulo = \"¡Recomendaciones para crear contraseñas seguras!\"\n",
    "    linea = \"*\" * 50\n",
    "\n",
    "    print(linea)\n",
    "    print(titulo.upper().center(50))\n",
    "    print(linea)\n",
    "    print(\"1. Sé creativo: Combina letras mayúsculas y minúsculas. (Ejemplo: AbCdEfG)\")\n",
    "    print(\"2. Añade números y evita información personal obvia. (Ejemplo: P4$$w0rd)\")\n",
    "    print(\"3. Utiliza caracteres especiales para mayor seguridad. (Ejemplo: MyP@$$w0rd!)\")\n",
    "    print(\"4. Evita secuencias comunes o patrones predecibles. (Ejemplo: QWERTY123)\")\n",
    "    print(\"5. Mantén la privacidad, evita datos personales. (Ejemplo: JohnDoe1985)\")\n",
    "    print(\"6. Elige contraseñas con longitud suficiente. (Ejemplo: MyLongPassword123)\")\n",
    "    print(\"7. No reutilices contraseñas en diferentes cuentas. (Ejemplo: !Password123 para cada cuenta)\")\n",
    "    print(\"8. Actualiza tus contraseñas periódicamente. (Ejemplo: UpdatePassword2023!)\")\n",
    "    print(\"9. Considera el uso de un gestor de contraseñas. (Ejemplo: LastPass, 1Password)\")\n",
    "    print(linea)\n",
    "    print()\n",
    "\n",
    "mostrar_recomendaciones()\n"
   ]
  },
  {
   "cell_type": "code",
   "execution_count": null,
   "metadata": {},
   "outputs": [],
   "source": [
    "def generar_contrasena_auto():\n",
    "    # El código de generación de contraseñas se mantiene igual\n",
    "    caracteres = string.ascii_letters + string.digits + string.punctuation\n",
    "    contrasena = ''.join(random.choice(caracteres) for _ in range(longitud))\n",
    "    resultado = \"Tu contraseña contiene {} caracteres y es la siguiente: {}\".format(longitud, contrasena)\n",
    "\n",
    "    print(\"\\n¡Contraseña generada exitosamente!\")\n",
    "    print(resultado)\n",
    "\n",
    "mostrar_recomendaciones()\n",
    "generar_contrasena_auto()"
   ]
  },
  {
   "cell_type": "code",
   "execution_count": null,
   "metadata": {},
   "outputs": [],
   "source": []
  },
  {
   "cell_type": "code",
   "execution_count": 2,
   "metadata": {},
   "outputs": [],
   "source": [
    "# Versión 1.0"
   ]
  },
  {
   "cell_type": "code",
   "execution_count": 3,
   "metadata": {},
   "outputs": [],
   "source": [
    "# Paso 1: Importamos los módulos random y string para generar caracteres aleatorios y tener acceso a un conjunto predefinido de caracteres, respectivamente\n",
    "import random\n",
    "import string"
   ]
  },
  {
   "attachments": {},
   "cell_type": "markdown",
   "metadata": {},
   "source": [
    "PASO 2:\n",
    "\n",
    "La función generar_contrasena toma un parámetro longitud, que indica cuántos caracteres debe tener la contraseña generada. Dentro de la función, definimos la variable caracteres, que contiene una combinación de letras mayúsculas y minúsculas (string.ascii_letters), dígitos (string.digits) y caracteres especiales (string.punctuation). Estos son los caracteres que se utilizarán para generar la contraseña.\n",
    "\n",
    "Luego, utilizamos una comprensión de listas junto con la función random.choice para seleccionar de forma aleatoria longitud caracteres de la cadena caracteres. Finalmente, utilizamos join para concatenar esos caracteres en una cadena y la retornamos como la contraseña generada.\n",
    "\n",
    "    random.choice(caracteres): random.choice() selecciona aleatoriamente un elemento de la secuencia caracteres. En este caso, caracteres contiene una combinación de letras, dígitos y caracteres especiales que definimos anteriormente. Cada vez que se llama a random.choice(caracteres), se selecciona un carácter aleatorio de esa secuencia.\n",
    "\n",
    "    for _ in range(longitud): Utilizamos un bucle for para repetir el proceso longitud veces. La variable _ se usa como una convención para indicar que no necesitamos realmente el valor de cada iteración, solo queremos ejecutar el bucle longitud veces.\n",
    "\n",
    "    ''.join(...): join() es un método de cadena que une los elementos de una secuencia en una cadena. En este caso, usamos join() para concatenar los caracteres generados en cada iteración del bucle y formar una cadena única."
   ]
  },
  {
   "cell_type": "code",
   "execution_count": 18,
   "metadata": {},
   "outputs": [],
   "source": [
    "# Paso 2: Definimos la función generar_contrasena\n",
    "def generar_contrasena(longitud):\n",
    "    caracteres = string.ascii_letters + string.digits + string.punctuation\n",
    "    contrasena = ''.join(random.choice(caracteres) for _ in range(longitud))\n",
    "    resultado = \"Tu contraseña contiene\", longitud, \"caracteres \" \"y es la siguiente:\", contrasena\n",
    "    return resultado\n",
    "\n"
   ]
  },
  {
   "cell_type": "code",
   "execution_count": 19,
   "metadata": {},
   "outputs": [
    {
     "data": {
      "text/plain": [
       "('Tu contraseña contiene', 3, 'caracteres y es la siguiente:', 'wgS')"
      ]
     },
     "execution_count": 19,
     "metadata": {},
     "output_type": "execute_result"
    }
   ],
   "source": [
    "generar_contrasena(int(input(\"Introduce el número de caracteres que quieres que contenga tu contraseña\")))"
   ]
  },
  {
   "cell_type": "code",
   "execution_count": 34,
   "metadata": {},
   "outputs": [],
   "source": [
    "def generar_contrasena(longitud):\n",
    "    caracteres = string.ascii_letters + string.digits + string.punctuation\n",
    "    contrasena = ''.join(random.choice(caracteres) for _ in range(longitud))\n",
    "    resultado = \"Tu contraseña contiene {} caracteres y es la siguiente: {}\".format(longitud, contrasena)\n",
    "    longitud = int(input(\"Introduce el número de caracteres que quieres que contenga tu contraseña: \"))\n",
    "    return resultado"
   ]
  },
  {
   "cell_type": "code",
   "execution_count": 39,
   "metadata": {},
   "outputs": [],
   "source": [
    "longitud = int(input(\"Introduce el número de caracteres que quieres que contenga tu contraseña: \"))\n",
    "caracteres = string.ascii_letters + string.digits + string.punctuation\n",
    "contrasena = ''.join(random.choice(caracteres) for _ in range(longitud))\n",
    "resultado = \"Tu contraseña contiene {} caracteres y es la siguiente: {}\".format(longitud, contrasena)\n"
   ]
  },
  {
   "cell_type": "code",
   "execution_count": 40,
   "metadata": {},
   "outputs": [
    {
     "data": {
      "text/plain": [
       "'Tu contraseña contiene 12 caracteres y es la siguiente: :!&eUxsQ8)BW'"
      ]
     },
     "execution_count": 40,
     "metadata": {},
     "output_type": "execute_result"
    }
   ],
   "source": [
    "generar_contrasena(longitud)"
   ]
  },
  {
   "cell_type": "code",
   "execution_count": 33,
   "metadata": {},
   "outputs": [
    {
     "data": {
      "text/plain": [
       "'Tu contraseña contiene 15 caracteres y es la siguiente: St{a|uo$M<bsWM6'"
      ]
     },
     "execution_count": 33,
     "metadata": {},
     "output_type": "execute_result"
    }
   ],
   "source": [
    "generar_contrasena(int(input(\"Introduce el número de caracteres que quieres que contenga tu contraseña \")))"
   ]
  },
  {
   "attachments": {},
   "cell_type": "markdown",
   "metadata": {},
   "source": [
    "PASO 3:\n",
    "\n",
    "Usamos la función input para mostrar un mensaje al usuario y obtener su entrada. Luego, convertimos la entrada a un entero utilizando int y lo almacenamos en la variable longitud_deseada. Esto nos permite obtener la longitud deseada de la contraseña."
   ]
  },
  {
   "cell_type": "code",
   "execution_count": null,
   "metadata": {},
   "outputs": [],
   "source": [
    "# Paso 3: Solicitamos la longitud deseada al usuario\n",
    "longitud_deseada = int(input(\"Ingresa la longitud deseada para la contraseña: \"))\n"
   ]
  },
  {
   "attachments": {},
   "cell_type": "markdown",
   "metadata": {},
   "source": [
    "PASO 4:\n",
    "\n",
    "Llamamos a la función generar_contrasena pasando longitud_deseada como argumento. La contraseña generada se guarda en la variable contrasena_generada. Luego, utilizamos print para mostrar la contraseña generada en la consola."
   ]
  },
  {
   "cell_type": "code",
   "execution_count": null,
   "metadata": {},
   "outputs": [],
   "source": [
    "# Paso 4: Generamos la contraseña y la mostramos\n",
    "contrasena_generada = generar_contrasena(longitud_deseada)\n",
    "print(\"Contraseña generada:\", contrasena_generada)\n",
    "\n"
   ]
  },
  {
   "cell_type": "code",
   "execution_count": 5,
   "metadata": {},
   "outputs": [
    {
     "name": "stdout",
     "output_type": "stream",
     "text": [
      "Su contraseña generada es: VZDGSe'TRG&;\n",
      "Contraseña generada: x0X;VSN?YFpbh@b\n"
     ]
    }
   ],
   "source": [
    "# Todo el código unificado\n",
    "import random\n",
    "import string\n",
    "\n",
    "def generar_contrasena(longitud):\n",
    "    caracteres = string.ascii_letters + string.digits + string.punctuation\n",
    "    contrasena = ''.join(random.choice(caracteres) for _ in range(longitud))\n",
    "    print(\"Su contraseña generada es:\", contrasena_generada)\n",
    "    return contrasena\n",
    "\n",
    "longitud_deseada = int(input(\"Ingresa la longitud deseada para la contraseña: \"))\n",
    "contrasena_generada = generar_contrasena(longitud_deseada)\n",
    "print(\"Contraseña generada:\", contrasena_generada)\n"
   ]
  },
  {
   "cell_type": "code",
   "execution_count": 2,
   "metadata": {},
   "outputs": [
    {
     "data": {
      "text/plain": [
       "'Qv\"yhc3>c83='"
      ]
     },
     "execution_count": 2,
     "metadata": {},
     "output_type": "execute_result"
    }
   ],
   "source": [
    "generar_contrasena(12)\n"
   ]
  },
  {
   "cell_type": "code",
   "execution_count": null,
   "metadata": {},
   "outputs": [],
   "source": [
    "# VERSIÓN 2.0 he realizado que cada vez que se genere sea con el contenido de minúsculas, mayúsculas, números y caracteres especiales\n",
    "# me faltaria un input() para el usuario introdujera la longitud que desee que tenga la contraseña"
   ]
  },
  {
   "cell_type": "code",
   "execution_count": 6,
   "metadata": {},
   "outputs": [],
   "source": [
    "import random\n",
    "import string\n",
    "\n",
    "def generar_contrasena(longitud):\n",
    "    caracteres = string.ascii_lowercase + string.ascii_uppercase + string.digits + string.punctuation\n",
    "    contrasena = ''\n",
    "    contrasena += random.choice(string.ascii_lowercase)  # Agregar una minúscula\n",
    "    contrasena += random.choice(string.ascii_uppercase)  # Agregar una mayúscula\n",
    "    contrasena += random.choice(string.digits)  # Agregar un número\n",
    "    contrasena += random.choice(string.punctuation)  # Agregar un carácter especial\n",
    "\n",
    "    # Generar el resto de la contraseña\n",
    "    for _ in range(longitud - 4):\n",
    "        contrasena += random.choice(caracteres)\n",
    "    \n",
    "    # Mezclar los caracteres de la contraseña\n",
    "    contrasena_lista = list(contrasena)\n",
    "    random.shuffle(contrasena_lista)\n",
    "    contrasena = ''.join(contrasena_lista)\n",
    "    \n",
    "    print(\"Su contraseña generada es:\", contrasena)\n",
    "    return contrasena\n"
   ]
  },
  {
   "cell_type": "code",
   "execution_count": 10,
   "metadata": {},
   "outputs": [
    {
     "name": "stdout",
     "output_type": "stream",
     "text": [
      "Su contraseña generada es: R\\g'x9~H$\\Zq\n"
     ]
    },
    {
     "data": {
      "text/plain": [
       "\"R\\\\g'x9~H$\\\\Zq\""
      ]
     },
     "execution_count": 10,
     "metadata": {},
     "output_type": "execute_result"
    }
   ],
   "source": [
    "generar_contrasena(12)"
   ]
  },
  {
   "cell_type": "code",
   "execution_count": null,
   "metadata": {},
   "outputs": [],
   "source": [
    "#VERSIÓN 3.0: en esta versión se trataría de que no aparezca ningun caracter repetido\n",
    "# me faltaria un input() para el usuario introdujera la longitud que desee que tenga la contraseña"
   ]
  },
  {
   "cell_type": "code",
   "execution_count": 1,
   "metadata": {},
   "outputs": [],
   "source": [
    "import random\n",
    "import string\n",
    "\n",
    "def generar_contrasena(longitud):\n",
    "    caracteres = string.ascii_lowercase + string.ascii_uppercase + string.digits + string.punctuation\n",
    "    contrasena = []\n",
    "\n",
    "    # Agregar un número, una minúscula, una mayúscula y un carácter especial\n",
    "    contrasena.append(random.choice(string.digits))  # Agregar un número\n",
    "    contrasena.append(random.choice(string.ascii_lowercase))  # Agregar una minúscula\n",
    "    contrasena.append(random.choice(string.ascii_uppercase))  # Agregar una mayúscula\n",
    "    contrasena.append(random.choice(string.punctuation))  # Agregar un carácter especial\n",
    "\n",
    "    # Generar el resto de la contraseña sin caracteres repetidos\n",
    "    while len(contrasena) < longitud:\n",
    "        nuevo_caracter = random.choice(caracteres)\n",
    "        if nuevo_caracter not in contrasena:\n",
    "            contrasena.append(nuevo_caracter)\n",
    "\n",
    "    # Mezclar los caracteres de la contraseña\n",
    "    random.shuffle(contrasena)\n",
    "\n",
    "    contrasena = ''.join(contrasena)\n",
    "    print(\"Su contraseña generada es:\", contrasena)\n",
    "    return contrasena\n"
   ]
  },
  {
   "cell_type": "code",
   "execution_count": 44,
   "metadata": {},
   "outputs": [
    {
     "name": "stdout",
     "output_type": "stream",
     "text": [
      "Su contraseña generada es: *2RT;W,oaA5&\n"
     ]
    },
    {
     "data": {
      "text/plain": [
       "'*2RT;W,oaA5&'"
      ]
     },
     "execution_count": 44,
     "metadata": {},
     "output_type": "execute_result"
    }
   ],
   "source": [
    "generar_contrasena(12)"
   ]
  },
  {
   "cell_type": "code",
   "execution_count": null,
   "metadata": {},
   "outputs": [],
   "source": [
    "# VERSIÓN 4.O: se trataría de que el usuario ingresara previamente su nombre y sus apellidos, el nombre de su mascota, su email...\n",
    "# y de lo que se trataria es que la contraseña generada no se parezca a ninguno de estos criterios previamente dados"
   ]
  }
 ],
 "metadata": {
  "kernelspec": {
   "display_name": "Python 3",
   "language": "python",
   "name": "python3"
  },
  "language_info": {
   "codemirror_mode": {
    "name": "ipython",
    "version": 3
   },
   "file_extension": ".py",
   "mimetype": "text/x-python",
   "name": "python",
   "nbconvert_exporter": "python",
   "pygments_lexer": "ipython3",
   "version": "3.10.11"
  },
  "orig_nbformat": 4
 },
 "nbformat": 4,
 "nbformat_minor": 2
}
