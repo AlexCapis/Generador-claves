{
 "cells": [
  {
   "cell_type": "markdown",
   "metadata": {},
   "source": [
    "# Generador de Contraseñas - Explicación del Funcionamiento\n",
    "\n",
    "Este notebook tiene como objetivo proporcionar una visión general del proyecto \"Generador de Contraseñas\". A través de este proyecto, se busca crear un generador de contraseñas que sea tanto seguro como fácil de usar para los usuarios. Las contraseñas fuertes son esenciales para proteger las cuentas en línea, y este generador pretende abordar esta necesidad.\n",
    "\n",
    "## Objetivos Principales\n",
    "\n",
    "Los objetivos principales de este proyecto son:\n",
    "\n",
    "1. **Seguridad:** Garantizar que las contraseñas generadas sean seguras y resistentes a ataques de fuerza bruta o diccionario. Esto se logra mediante la inclusión de una combinación de caracteres alfanuméricos y especiales, así como evitando patrones predecibles.\n",
    "\n",
    "2. **Facilidad de Uso:** Asegurar que los usuarios puedan generar contraseñas de manera sencilla y rápida. Esto se logra al permitir que los usuarios especifiquen la longitud deseada de la contraseña.\n",
    "\n",
    "3. **Posibilidad de Contraseñas Desechables:** Como un objetivo futuro, se planea habilitar la generación de contraseñas desechables que se pueden utilizar una sola vez o para casos temporales.\n",
    "\n",
    "## Versión Inicial [Versión 1.0]()\n",
    "\n",
    "La versión inicial de este generador de contraseñas es relativamente simple. Aquí está cómo funciona:\n",
    "\n",
    "1. El usuario proporciona la longitud deseada para la contraseña.\n",
    "\n",
    "2. El generador selecciona aleatoriamente caracteres de entre letras minúsculas, mayúsculas, dígitos y caracteres especiales para construir la contraseña.\n",
    "\n",
    "3. La contraseña generada se muestra al usuario.\n",
    "\n",
    "A continuación, se muestra un ejemplo de cómo utilizar la versión 1.0 del generador:\n",
    "\n",
    "```python\n",
    "import random\n",
    "import string\n",
    "\n",
    "def generar_contrasena(longitud):\n",
    "    caracteres = string.ascii_letters + string.digits + string.punctuation\n",
    "    contrasena = ''.join(random.choice(caracteres) for _ in range(longitud))\n",
    "    return contrasena\n",
    "\n",
    "longitud_deseada = int(input(\"Ingresa la longitud deseada para la contraseña: \"))\n",
    "contrasena_generada = generar_contrasena(longitud_deseada)\n",
    "print(\"Contraseña generada:\", contrasena_generada)\n"
   ]
  },
  {
   "cell_type": "code",
   "execution_count": null,
   "metadata": {},
   "outputs": [],
   "source": []
  }
 ],
 "metadata": {
  "language_info": {
   "name": "python"
  },
  "orig_nbformat": 4
 },
 "nbformat": 4,
 "nbformat_minor": 2
}
