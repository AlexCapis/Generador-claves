{
 "cells": [
  {
   "cell_type": "markdown",
   "metadata": {},
   "source": [
    "#  Versión 1.0 - \"El Fundamento\"\n",
    "\n",
    "¡Bienvenido al notebook de la Versión 1.0 de nuestro Generador de Contraseñas! En esta primera entrega, establecemos las bases para un generador de contraseñas seguro y fácil de usar. \n",
    "\n",
    "</a>\n",
    "<h1>ÍNDICE</h1>\n",
    "\n",
    "\n",
    "[1. Objetivo](#1-objetivo)\n",
    "\n",
    "[2. Funcionamiento](#2-funcionamiento)\n",
    "\n",
    "[3. Ejemplo de Uso](#3-ejemplo-de-uso)\n",
    "\n",
    "[4. Explicación detallada del código de la Versión 1.0](#5-seguridad)\n",
    "\n",
    "[5. Seguridad](#5-seguridad)\n",
    "\n",
    "[6. Versión 2.0 - \"Potenciando la Versatilidad\"](#6-versión-20---potenciando-la-versatilidad)"
   ]
  },
  {
   "cell_type": "markdown",
   "metadata": {},
   "source": [
    "\n",
    "\n",
    "### 1. Objetivo\n",
    "El objetivo principal de esta versión es proporcionar a los usuarios una forma rápida y sencilla de generar contraseñas seguras. Nos enfocamos en:\n",
    "    - La **simplicidad** \n",
    "    - La **seguridad básica**.\n",
    "\n",
    "### 2. Funcionamiento\n",
    "La Versión 1.0 funciona de la siguiente manera:\n",
    "\n",
    "- **Longitud de Contraseña Personalizada:** El usuario inicia el proceso ingresando la longitud deseada para la contraseña.\n",
    "\n",
    "- **Generación Aleatoria:** Nuestro generador selecciona aleatoriamente caracteres de entre letras minúsculas, mayúsculas, dígitos y caracteres especiales. Estos caracteres se combinan para crear la contraseña.\n",
    "\n",
    "- **Contraseña Generada:** La contraseña generada se muestra al usuario.\n",
    "\n",
    "### 3. Ejemplo de Uso\n",
    "A continuación, te mostramos un ejemplo de cómo utilizar la Versión 1.0 del generador en Python:\n",
    "\n",
    "```python\n",
    "import random\n",
    "import string\n",
    "\n",
    "def generar_contrasena(longitud):\n",
    "    caracteres = string.ascii_letters + string.digits + string.punctuation\n",
    "    contrasena = ''.join(random.choice(caracteres) for _ in range(longitud))\n",
    "    return contrasena\n",
    "\n",
    "longitud_deseada = int(input(\"Ingresa la longitud deseada para la contraseña: \"))\n",
    "contrasena_generada = generar_contrasena(longitud_deseada)\n",
    "print(\"Contraseña generada:\", contrasena_generada)\n"
   ]
  },
  {
   "cell_type": "markdown",
   "metadata": {},
   "source": [
    "### 4. Explicación detallada del código de la Versión 1.0"
   ]
  },
  {
   "cell_type": "markdown",
   "metadata": {},
   "source": [
    "Se muestra de nuevo el código de la versión 1.0, pero esta vez con una explicación sencilla y escueta del código."
   ]
  },
  {
   "cell_type": "code",
   "execution_count": 2,
   "metadata": {},
   "outputs": [
    {
     "name": "stdout",
     "output_type": "stream",
     "text": [
      "Contraseña generada: KeU*+8%F\n"
     ]
    }
   ],
   "source": [
    "import random\n",
    "import string\n",
    "\n",
    "# Esta función genera una contraseña aleatoria de la longitud especificada.\n",
    "def generar_contrasena(longitud):\n",
    "    # Definimos los caracteres que se utilizarán para crear la contraseña.\n",
    "    caracteres = string.ascii_letters + string.digits + string.punctuation\n",
    "\n",
    "    # Creamos una contraseña seleccionando aleatoriamente caracteres de la lista de caracteres.\n",
    "    contrasena = ''.join(random.choice(caracteres) for _ in range(longitud))\n",
    "    return contrasena\n",
    "\n",
    "# El usuario ingresa la longitud deseada para la contraseña.\n",
    "longitud_deseada = int(input(\"Ingresa la longitud deseada para la contraseña: \"))\n",
    "\n",
    "# Llamamos a la función para generar la contraseña.\n",
    "contrasena_generada = generar_contrasena(longitud_deseada)\n",
    "\n",
    "# Mostramos la contraseña generada al usuario.\n",
    "print(\"Contraseña generada:\", contrasena_generada)\n"
   ]
  },
  {
   "cell_type": "markdown",
   "metadata": {},
   "source": [
    "A continuación, se explica con mayor detalle todo el código mostrado en la celda anterior para que se pueda comprender con claridad de donde viene cada línea de código y como generamos la contraseña. \n",
    "\n",
    "1. Importamos los módulos **random y string**. \n",
    "    - **random** se utiliza para generar números aleatorios.\n",
    "    - **string** contiene conjuntos de caracteres útiles para crear contraseñas.\n",
    "\n",
    "2. Definimos la **función generar_contrasena(longitud)**. Esta función toma un argumento, que es la longitud deseada de la contraseña.\n",
    "\n",
    "3. Dentro de la función, definimos la **variable caracteres**, que contiene todos los caracteres posibles que se utilizarán para crear la contraseña, la cual incluye:\n",
    "    - **Letras minúsculas**.\n",
    "    - **Letras mayúsculas**. \n",
    "    - **Dígitos**.\n",
    "    - **Caracteres especiales**.\n",
    "    \n",
    "\n",
    "4. Luego, utilizamos una comprensión de **lista** para crear una contraseña aleatoria. Elegimos caracteres aleatoriamente de la lista caracteres para llenar la contraseña hasta alcanzar la longitud deseada.\n",
    "\n",
    "5. Finalmente, la función devuelve la **contraseña generada**.\n",
    "\n",
    "6. Fuera de la función, el usuario ingresa la longitud deseada para la contraseña usando **input()**.\n",
    "\n",
    "7. Llamamos a la función **generar_contrasena(longitud_deseada)** para generar la contraseña.\n",
    "\n",
    "8. Mostramos la contraseña generada al usuario."
   ]
  },
  {
   "cell_type": "markdown",
   "metadata": {},
   "source": [
    "### 5. Seguridad\n",
    "\n",
    "Aunque esta versión es un punto de partida sólido, no ofrece características avanzadas de seguridad. Las contraseñas generadas son **aleatorias y seguras**, pero no tienen requisitos específicos más allá de la longitud. En las versiones posteriores, mejoraremos la seguridad añadiendo más restricciones y requisitos.\n",
    "\n",
    "¡Gracias por unirte a nosotros en esta emocionante travesía de seguridad digital! La Versión 1.0 es solo el comienzo, y esperamos que sigas explorando las próximas versiones del generador."
   ]
  },
  {
   "cell_type": "markdown",
   "metadata": {},
   "source": [
    "### 6. Versión 2.0 - \"Potenciando la Versatilidad\"\n",
    "\n",
    "¡Es hora de elevar nuestro Generador de Contraseñas al siguiente nivel! En la **Versión 2.0**, hemos introducido emocionantes mejoras y características adicionales que hacen que la generación de contraseñas sea aún más versátil y segura.\n",
    "\n",
    "**[Haz clic aquí para explorar la Versión 2.0](https://github.com/AlexCapis/Generador-claves/blob/main/main/version_2.0.py)**\n",
    "\n",
    "En esta nueva entrega, hemos mejorado la experiencia de generación de contraseñas. Ahora, los usuarios tienen un mayor control sobre las contraseñas que crean y pueden personalizarlas según sus necesidades específicas.\n",
    "\n",
    "Te invitamos a explorar la Versión 2.0 y descubrir cómo estas mejoras hacen que el proceso de generación de contraseñas sea aún más eficiente y seguro. ¡Únete a nosotros en esta emocionante travesía de innovación y seguridad digital!\n"
   ]
  }
 ],
 "metadata": {
  "kernelspec": {
   "display_name": "Python 3",
   "language": "python",
   "name": "python3"
  },
  "language_info": {
   "codemirror_mode": {
    "name": "ipython",
    "version": 3
   },
   "file_extension": ".py",
   "mimetype": "text/x-python",
   "name": "python",
   "nbconvert_exporter": "python",
   "pygments_lexer": "ipython3",
   "version": "3.10.11"
  },
  "orig_nbformat": 4
 },
 "nbformat": 4,
 "nbformat_minor": 2
}
