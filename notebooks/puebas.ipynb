{
 "cells": [
  {
   "cell_type": "markdown",
   "metadata": {},
   "source": [
    "Entropía Mejorada:\n",
    "Una forma de mejorar la entropía es ajustar la selección de caracteres en función de la frecuencia de uso de caracteres en tu idioma. Por ejemplo, en inglés, las vocales son comunes, por lo que podrías hacerlas menos frecuentes en tus contraseñas. Aquí hay un ejemplo:"
   ]
  },
  {
   "cell_type": "code",
   "execution_count": 1,
   "metadata": {},
   "outputs": [
    {
     "name": "stdout",
     "output_type": "stream",
     "text": [
      "Contraseña generada con entropía mejorada: caefga\n"
     ]
    }
   ],
   "source": [
    "import random\n",
    "import string\n",
    "\n",
    "def generar_contrasena_con_entropia_mejorada(longitud):\n",
    "    # Define un conjunto de caracteres ponderados en función de la frecuencia de uso en inglés\n",
    "    caracteres_ponderados = string.ascii_letters + string.digits + string.punctuation\n",
    "    frecuencias = [8, 7, 6, 5, 4, 3, 2, 1]  # Frecuencias de caracteres ponderadas\n",
    "    caracteres = ''.join([char * freq for char, freq in zip(caracteres_ponderados, frecuencias)])\n",
    "    \n",
    "    contrasena = ''.join(random.choice(caracteres) for _ in range(longitud))\n",
    "    return contrasena\n",
    "\n",
    "longitud_deseada = int(input(\"Ingresa la longitud deseada para la contraseña: \"))\n",
    "contrasena_generada = generar_contrasena_con_entropia_mejorada(longitud_deseada)\n",
    "print(\"Contraseña generada con entropía mejorada:\", contrasena_generada)\n"
   ]
  },
  {
   "cell_type": "markdown",
   "metadata": {},
   "source": [
    "Palabras Comunes:\n",
    "Para evitar palabras comunes, puedes mantener una lista de palabras comunes y verificar si la contraseña generada contiene alguna de ellas. Aquí tienes un ejemplo simple:"
   ]
  },
  {
   "cell_type": "code",
   "execution_count": 2,
   "metadata": {},
   "outputs": [
    {
     "name": "stdout",
     "output_type": "stream",
     "text": [
      "Contraseña generada sin palabras comunes: .U^/7|\n"
     ]
    }
   ],
   "source": [
    "import random\n",
    "import string\n",
    "\n",
    "def generar_contrasena_sin_palabras_comunes(longitud):\n",
    "    palabras_comunes = [\"password\", \"123456\", \"qwerty\", \"admin\"]  # Ejemplo de palabras comunes\n",
    "    contrasena = \"\"\n",
    "\n",
    "    while True:\n",
    "        contrasena = ''.join(random.choice(string.printable) for _ in range(longitud))\n",
    "        if not any(word in contrasena for word in palabras_comunes):\n",
    "            break\n",
    "\n",
    "    return contrasena\n",
    "\n",
    "longitud_deseada = int(input(\"Ingresa la longitud deseada para la contraseña: \"))\n",
    "contrasena_generada = generar_contrasena_sin_palabras_comunes(longitud_deseada)\n",
    "print(\"Contraseña generada sin palabras comunes:\", contrasena_generada)\n"
   ]
  },
  {
   "cell_type": "markdown",
   "metadata": {},
   "source": [
    "Generación de Contraseñas Desechables:\n",
    "Para implementar contraseñas desechables, puedes agregar una marca de tiempo a cada contraseña y verificar su validez antes de su uso. Aquí hay un ejemplo básico usando una marca de tiempo de caducidad:"
   ]
  },
  {
   "cell_type": "code",
   "execution_count": 3,
   "metadata": {},
   "outputs": [
    {
     "name": "stdout",
     "output_type": "stream",
     "text": [
      "Contraseña desechable generada: !w<')g;_1693733653\n"
     ]
    }
   ],
   "source": [
    "import random\n",
    "import string\n",
    "import time\n",
    "\n",
    "def generar_contrasena_desechable(longitud, tiempo_de_caducidad_en_segundos):\n",
    "    caracteres = string.ascii_letters + string.digits + string.punctuation\n",
    "    contrasena = ''.join(random.choice(caracteres) for _ in range(longitud))\n",
    "    marca_de_tiempo = int(time.time())  # Marca de tiempo actual\n",
    "    contrasena_desechable = f\"{contrasena}_{marca_de_tiempo + tiempo_de_caducidad_en_segundos}\"\n",
    "    return contrasena_desechable\n",
    "\n",
    "longitud_deseada = int(input(\"Ingresa la longitud deseada para la contraseña: \"))\n",
    "tiempo_de_caducidad = int(input(\"Ingresa el tiempo de caducidad en segundos: \"))\n",
    "contrasena_generada = generar_contrasena_desechable(longitud_deseada, tiempo_de_caducidad)\n",
    "print(\"Contraseña desechable generada:\", contrasena_generada)\n"
   ]
  },
  {
   "cell_type": "markdown",
   "metadata": {},
   "source": [
    "Mejoras en la Eficiencia de Generación:\n",
    "Para mejorar la eficiencia, puedes explorar algoritmos de generación de contraseñas más avanzados, como el algoritmo de Durstenfeld para mezclar caracteres de manera eficiente. Aquí hay un ejemplo de cómo podrías implementarlo:"
   ]
  },
  {
   "cell_type": "code",
   "execution_count": 4,
   "metadata": {},
   "outputs": [
    {
     "name": "stdout",
     "output_type": "stream",
     "text": [
      "Contraseña generada de manera eficiente: G,FA%YCz>jO`\n"
     ]
    }
   ],
   "source": [
    "import random\n",
    "import string\n",
    "\n",
    "def generar_contrasena_eficiente(longitud):\n",
    "    caracteres = string.ascii_letters + string.digits + string.punctuation\n",
    "    contrasena = [random.choice(caracteres) for _ in range(longitud)]\n",
    "\n",
    "    # Mezclar los caracteres de la contraseña de manera eficiente usando el algoritmo Durstenfeld\n",
    "    for i in range(len(contrasena) - 1, 0, -1):\n",
    "        j = random.randint(0, i)\n",
    "        contrasena[i], contrasena[j] = contrasena[j], contrasena[i]\n",
    "\n",
    "    contrasena = ''.join(contrasena)\n",
    "    return contrasena\n",
    "\n",
    "longitud_deseada = int(input(\"Ingresa la longitud deseada para la contraseña: \"))\n",
    "contrasena_generada = generar_contrasena_eficiente(longitud_deseada)\n",
    "print(\"Contraseña generada de manera eficiente:\", contrasena_generada)\n"
   ]
  },
  {
   "cell_type": "markdown",
   "metadata": {},
   "source": []
  },
  {
   "cell_type": "code",
   "execution_count": 6,
   "metadata": {},
   "outputs": [
    {
     "name": "stdout",
     "output_type": "stream",
     "text": [
      "Su contraseña generada es: ~q3f@_Zsvj6\"\n"
     ]
    }
   ],
   "source": [
    "import random\n",
    "import string\n",
    "\n",
    "def generar_contrasena(longitud, usar_mayusculas=True, usar_numeros=True, usar_especiales=True, excluye_ambiguos=True):\n",
    "    caracteres = string.ascii_lowercase\n",
    "    if usar_mayusculas:\n",
    "        caracteres += string.ascii_uppercase\n",
    "    if usar_numeros:\n",
    "        caracteres += string.digits\n",
    "    if usar_especiales:\n",
    "        caracteres += string.punctuation\n",
    "    \n",
    "    if excluye_ambiguos:\n",
    "        caracteres = ''.join(c for c in caracteres if c not in 'lI10Oo')\n",
    "    \n",
    "    if longitud < 4:\n",
    "        print(\"La longitud deseada es demasiado corta para generar una contraseña segura. Mínimo debe ser 4.\")\n",
    "        return None\n",
    "    \n",
    "    contrasena = []\n",
    "    \n",
    "    # Agregar al menos un carácter de cada tipo seleccionado\n",
    "    if usar_mayusculas:\n",
    "        contrasena.append(random.choice(string.ascii_uppercase))\n",
    "    if usar_numeros:\n",
    "        contrasena.append(random.choice(string.digits))\n",
    "    if usar_especiales:\n",
    "        contrasena.append(random.choice(string.punctuation))\n",
    "    \n",
    "    # Generar el resto de la contraseña\n",
    "    while len(contrasena) < longitud:\n",
    "        contrasena.append(random.choice(caracteres))\n",
    "    \n",
    "    # Mezclar los caracteres de la contraseña\n",
    "    random.shuffle(contrasena)\n",
    "    \n",
    "    contrasena = ''.join(contrasena)\n",
    "    return contrasena\n",
    "\n",
    "# Solicita al usuario la longitud deseada para la contraseña\n",
    "longitud_deseada = int(input(\"Ingresa la longitud deseada para la contraseña: \"))\n",
    "usar_mayusculas = input(\"¿Usar letras mayúsculas? (S/n): \").strip().lower() != 'n'\n",
    "usar_numeros = input(\"¿Usar números? (S/n): \").strip().lower() != 'n'\n",
    "usar_especiales = input(\"¿Usar caracteres especiales? (S/n): \").strip().lower() != 'n'\n",
    "excluye_ambiguos = input(\"¿Excluir caracteres ambiguos? (S/n): \").strip().lower() != 'n'\n",
    "\n",
    "contrasena_generada = generar_contrasena(longitud_deseada, usar_mayusculas, usar_numeros, usar_especiales, excluye_ambiguos)\n",
    "print(\"Su contraseña generada es:\", contrasena_generada)\n"
   ]
  },
  {
   "cell_type": "markdown",
   "metadata": {},
   "source": [
    "# Versión 3.0 - \"Personalización Avanzada\"\n",
    "\n",
    "## ¡Bienvenido al Generador de Contraseñas - Versión 3.0! \n",
    "\n",
    "<dl>\n",
    "  <dt><a href=\"#características-principales\">1. Características Principales</a></dt>\n",
    "  <dt><a href=\"#cómo-usar-el-generador-de-contraseñas\">2. Cómo Usar el Generador de Contraseñas</a></dt>\n",
    "  <dt><a href=\"#ejemplo-de-uso\">3. Ejemplo de Uso</a></dt>\n",
    "  <dt><a href=\"#explicación-detallada-del-código-de-la-versión-20\">4. Explicación detallada del código de la Versión 2.0</a></dt>\n",
    "  <dt><a href=\"#mejoras-en-la-seguridad-en-la-versión-30\">5. Mejoras en la Seguridad en la Versión 3.0</a></dt>\n",
    "  <dt><a href=\"#preparándonos-para-la-versión-40\">6. Preparándonos para la Versión 4.0</a></dt>\n",
    "</dl>\n",
    "\n",
    "## 1. Características Principales\n",
    "---\n",
    "...\n",
    "\n",
    "## 2. Cómo Usar el Generador de Contraseñas\n",
    "---\n",
    "...\n",
    "\n",
    "## 3. Ejemplo de Uso\n",
    "---\n",
    "...\n",
    "\n",
    "## 4.  Explicación detallada del código de la Versión 2.0\n",
    "---\n",
    "...\n",
    "\n",
    "## 5. Mejoras en la Seguridad en la Versión 3.0\n",
    "---\n",
    "...\n",
    "\n",
    "## 6. Preparándonos para la Versión 4.0\n",
    "---\n",
    "...\n"
   ]
  }
 ],
 "metadata": {
  "kernelspec": {
   "display_name": "Python 3",
   "language": "python",
   "name": "python3"
  },
  "language_info": {
   "codemirror_mode": {
    "name": "ipython",
    "version": 3
   },
   "file_extension": ".py",
   "mimetype": "text/x-python",
   "name": "python",
   "nbconvert_exporter": "python",
   "pygments_lexer": "ipython3",
   "version": "3.10.11"
  },
  "orig_nbformat": 4
 },
 "nbformat": 4,
 "nbformat_minor": 2
}
