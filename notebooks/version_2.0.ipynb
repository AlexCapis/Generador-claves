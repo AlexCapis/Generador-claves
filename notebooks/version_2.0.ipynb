{
 "cells": [
  {
   "cell_type": "markdown",
   "metadata": {},
   "source": [
    "# Versión 2.0 - \"Potenciando la Versatilidad\"\n",
    "\n",
    "¡Bienvenido al emocionante mundo de la \"Versión 2.0\" de nuestro Generador de Contraseñas! En esta iteración de nuestro proyecto, llevamos la seguridad y la versatilidad al siguiente nivel.\n",
    "</a>\n",
    "<h1>ÍNDICE</h1>\n",
    "\n",
    "\n",
    "[1. Mejoras Clave]()\n",
    "\n",
    "[2. Funcionamiento]()\n",
    "\n",
    "[3. Ejemplo de Uso]()\n",
    "\n",
    "[4. Explicación detallada del código de la Versión 1.0]()\n",
    "\n",
    "[5. Seguridad]()\n",
    "\n",
    "[6. Versión 2.0 - \"Potenciando la Versatilidad\"]()\n",
    "\n"
   ]
  },
  {
   "cell_type": "markdown",
   "metadata": {},
   "source": [
    "## 1. Mejoras Clave\n",
    "\n",
    "En esta versión, hemos realizado mejoras significativas en el generador de contraseñas. Las principales características de la \"Versión 2.0\" incluyen:\n",
    "\n",
    "- **Caracteres Obligatorios:** Ahora, cada contraseña generada contendrá al menos una letra minúscula, una mayúscula, un número y un carácter especial. Esto garantiza que las contraseñas sean aún más seguras y resistentes a los ataques.\n",
    "\n",
    "- **Longitud Personalizada:** Hemos escuchado a nuestros usuarios y les ofrecemos la posibilidad de especificar la longitud exacta que desean para sus contraseñas. ¡Tú tienes el control total!\n",
    "\n",
    "- **Generación Eficiente:** Hemos optimizado el proceso de generación para que obtengas contraseñas seguras en menos tiempo.\n",
    "\n",
    "## Cómo Utilizar la Versión 2.0\n",
    "\n",
    "Generar contraseñas seguras con la \"Versión 2.0\" es más fácil que nunca. A continuación, te mostramos cómo hacerlo:\n",
    "\n",
    "1. Ejecuta el código proporcionado a continuación en tu entorno de Python.\n",
    "\n",
    "```python\n",
    "import random\n",
    "import string\n",
    "\n",
    "def generar_contrasena(longitud):\n",
    "    caracteres = string.ascii_lowercase + string.ascii_uppercase + string.digits + string.punctuation\n",
    "    contrasena = ''\n",
    "    contrasena += random.choice(string.ascii_lowercase)  # Agregar una minúscula\n",
    "    contrasena += random.choice(string.ascii_uppercase)  # Agregar una mayúscula\n",
    "    contrasena += random.choice(string.digits)  # Agregar un número\n",
    "    contrasena += random.choice(string.punctuation)  # Agregar un carácter especial\n",
    "\n",
    "    # Generar el resto de la contraseña\n",
    "    for _ in range(longitud - 4):\n",
    "        contrasena += random.choice(caracteres)\n",
    "    \n",
    "    # Mezclar los caracteres de la contraseña\n",
    "    contrasena_lista = list(contrasena)\n",
    "    random.shuffle(contrasena_lista)\n",
    "    contrasena = ''.join(contrasena_lista)\n",
    "    \n",
    "    print(\"Su contraseña generada es:\", contrasena)\n",
    "    return contrasena\n",
    "\n",
    "# Solicita al usuario la longitud deseada para la contraseña\n",
    "longitud_deseada = int(input(\"Ingresa la longitud deseada para la contraseña: \"))\n",
    "\n",
    "# Llama a la función generar_contrasena con la longitud especificada\n",
    "contrasena_generada = generar_contrasena(longitud_deseada)\n",
    "print(\"Contraseña generada:\", contrasena_generada)\n"
   ]
  },
  {
   "cell_type": "code",
   "execution_count": null,
   "metadata": {},
   "outputs": [],
   "source": []
  }
 ],
 "metadata": {
  "language_info": {
   "name": "python"
  },
  "orig_nbformat": 4
 },
 "nbformat": 4,
 "nbformat_minor": 2
}
