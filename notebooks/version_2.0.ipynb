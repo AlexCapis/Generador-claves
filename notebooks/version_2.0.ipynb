{
 "cells": [
  {
   "cell_type": "markdown",
   "metadata": {},
   "source": [
    "# Versión 2.0 - \"Potenciando la Versatilidad\"\n",
    "\n",
    "¡Bienvenido al emocionante mundo de la \"Versión 2.0\" de nuestro Generador de Contraseñas! En esta iteración de nuestro proyecto, llevamos la seguridad y la versatilidad al siguiente nivel.\n",
    "\n",
    "<dl>\n",
    "  <dt><a href=\"#1-mejoras-clave\">1. Mejoras Clave</a></dt>\n",
    "  <dd>Descripción de las mejoras clave en la Versión 2.0</dd>\n",
    "\n",
    "  <dt><a href=\"#2-cómo-utilizar-la-versión-20\">2. Cómo Utilizar la Versión 2.0</a></dt>\n",
    "  <dd>Guía sobre cómo utilizar la Versión 2.0</dd>\n",
    "\n",
    "  <dt><a href=\"#3-explicación-detallada-del-código-de-la-versión-20\">3. Explicación detallada del código de la Versión 2.0</a></dt>\n",
    "  <dd>Descripción detallada del código en la Versión 2.0</dd>\n",
    "\n",
    "  <dt><a href=\"#4-mejoras-en-la-seguridad-en-la-versión-20\">4. Mejoras en la Seguridad en la Versión 2.0</a></dt>\n",
    "  <dd>Detalles sobre las mejoras de seguridad en la Versión 2.0</dd>\n",
    "\n",
    "  <dt><a href=\"#5-preparándonos-para-la-versión-30\">5. ¡Preparándonos para la Versión 3.0!</a></dt>\n",
    "  <dd>Información sobre la preparación para la Versión 3.0</dd>\n",
    "</dl>\n",
    "\n",
    "\n"
   ]
  },
  {
   "cell_type": "markdown",
   "metadata": {},
   "source": [
    "## 1. Mejoras Clave\n",
    "---\n",
    "En esta versión, hemos realizado mejoras significativas en el generador de contraseñas. Las principales características de la \"Versión 2.0\" incluyen:\n",
    "\n",
    "- **Caracteres Obligatorios:** Ahora, cada contraseña generada contendrá al menos una letra minúscula, una mayúscula, un número y un carácter especial. Esto garantiza que las contraseñas sean aún más seguras y resistentes a los ataques.\n",
    "\n",
    "- **Longitud Personalizada:** Hemos escuchado a nuestros usuarios y les ofrecemos la posibilidad de especificar la longitud exacta que desean para sus contraseñas. ¡Tú tienes el control total!\n",
    "\n",
    "- **Generación Eficiente:** Hemos optimizado el proceso de generación para que obtengas contraseñas seguras en menos tiempo.\n",
    "\n",
    "## 2. Cómo Utilizar la Versión 2.0\n",
    "---\n",
    "Generar contraseñas seguras con la \"Versión 2.0\" es más fácil que nunca. A continuación, te mostramos cómo hacerlo:\n",
    "\n",
    "```python\n",
    "import random\n",
    "import string\n",
    "\n",
    "def generar_contrasena(longitud):\n",
    "    caracteres = string.ascii_lowercase + string.ascii_uppercase + string.digits + string.punctuation\n",
    "    contrasena = ''\n",
    "\n",
    "    longitud -= 4  \n",
    "    if longitud < 1:\n",
    "        print(\"La longitud deseada es demasiado corta para generar una contraseña segura. Mínimo debe contener 5 caracteres.\")\n",
    "        return None\n",
    "\n",
    "    contrasena += random.choice(string.ascii_lowercase)  \n",
    "    contrasena += random.choice(string.ascii_uppercase)  \n",
    "    contrasena += random.choice(string.digits) \n",
    "    contrasena += random.choice(string.punctuation) \n",
    "    \n",
    "    for _ in range(longitud):\n",
    "        contrasena += random.choice(caracteres)\n",
    "    \n",
    "    contrasena_lista = list(contrasena)\n",
    "    random.shuffle(contrasena_lista)\n",
    "    contrasena = ''.join(contrasena_lista)\n",
    "    \n",
    "    return contrasena\n",
    "\n",
    "longitud_deseada = int(input(\"Ingresa la longitud deseada para la contraseña: \"))\n",
    "contrasena_generada = generar_contrasena(longitud_deseada)\n",
    "print(\"Contraseña generada:\", contrasena_generada)\n"
   ]
  },
  {
   "cell_type": "markdown",
   "metadata": {},
   "source": [
    "## 3.  Explicación detallada del código de la Versión 2.0\n",
    "---\n",
    "Se muestra de nuevo el código de la versión 2.0, de forma comentada proporcionando una lectura y comprensión más sencilla y dinámica."
   ]
  },
  {
   "cell_type": "code",
   "execution_count": 14,
   "metadata": {},
   "outputs": [
    {
     "name": "stdout",
     "output_type": "stream",
     "text": [
      "Contraseña generada: 1Kbh4<P=\n"
     ]
    }
   ],
   "source": [
    "import random\n",
    "import string\n",
    "\n",
    "def generar_contrasena(longitud):\n",
    "    caracteres = string.ascii_lowercase + string.ascii_uppercase + string.digits + string.punctuation\n",
    "    contrasena = ''\n",
    "\n",
    "    # Permitimos al usuario especificar la longitud total deseada de la contraseña\n",
    "    longitud -= 4  # Restamos 4 para tener en cuenta las categorías obligatorias\n",
    "    if longitud < 1:\n",
    "        print(\"La longitud deseada es demasiado corta para generar una contraseña segura. Mínimo debe contener 5 caracteres.\")\n",
    "        return None\n",
    "\n",
    "    contrasena += random.choice(string.ascii_lowercase)  # Agregar una minúscula\n",
    "    contrasena += random.choice(string.ascii_uppercase)  # Agregar una mayúscula\n",
    "    contrasena += random.choice(string.digits)  # Agregar un número\n",
    "    contrasena += random.choice(string.punctuation)  # Agregar un carácter especial\n",
    "\n",
    "    # Generar el resto de la contraseña\n",
    "    for _ in range(longitud):\n",
    "        contrasena += random.choice(caracteres)\n",
    "    \n",
    "    # Mezclar los caracteres de la contraseña\n",
    "    contrasena_lista = list(contrasena)\n",
    "    random.shuffle(contrasena_lista)\n",
    "    contrasena = ''.join(contrasena_lista)\n",
    "    \n",
    "    # print(\"Su contraseña generada es:\", contrasena)\n",
    "    return contrasena\n",
    "\n",
    "# Solicita al usuario la longitud deseada para la contraseña\n",
    "longitud_deseada = int(input(\"Ingresa la longitud deseada para la contraseña: \"))\n",
    "\n",
    "# Llama a la función generar_contrasena con la longitud especificada\n",
    "contrasena_generada = generar_contrasena(longitud_deseada)\n",
    "print(\"Contraseña generada:\", contrasena_generada)"
   ]
  },
  {
   "cell_type": "markdown",
   "metadata": {},
   "source": [
    "A continuación, se explica con mayor detalle todo el código mostrado en la celda anterior para que se pueda comprender con claridad de donde viene cada línea de código y como generamos la contraseña. \n",
    "\n",
    "\n",
    "- **Importación de Bibliotecas**: Importamos las bibliotecas **random** y **string**, las cuales son necesarias para la generación de contraseñas.\n",
    "\n",
    "- **Definición de la Función generar_contrasena**: Hemos creado una función llamada **generar_contrasena** que acepta un argumento `longitud`, que representa la longitud deseada para la contraseña.\n",
    "\n",
    "- **Selección de Caracteres Posibles**: Creamos una cadena llamada `caracteres` que contiene todos los caracteres posibles que pueden aparecer en una contraseña, incluyendo letras minúsculas, letras mayúsculas, dígitos y caracteres especiales.\n",
    "\n",
    "- **Inicialización de la Contraseña**: Inicializamos una cadena vacía llamada `contrasena`, que será utilizada para almacenar la contraseña generada.\n",
    "\n",
    "- **Ajuste de Longitud**: Restamos 4 de la longitud deseada para reservar espacio para al menos una letra minúscula, una mayúscula, un número y un carácter especial en la contraseña. Esto garantiza que la contraseña cumpla con los requisitos mínimos de seguridad.\n",
    "\n",
    "- **Verificación de Longitud Mínima**: Verificamos si la longitud restante después de restar 4 es menor que 1. Si es así, significa que la longitud deseada es demasiado corta para generar una contraseña segura, y mostramos un mensaje de advertencia.\n",
    "\n",
    "- **Agregación de Caracteres Obligatorios**: Agregamos una letra minúscula, una mayúscula, un número y un carácter especial a la contraseña inicial para cumplir con los requisitos mínimos de seguridad.\n",
    "\n",
    "- **Generación del Resto de la Contraseña**: Luego, generamos el resto de la contraseña. Utilizamos un bucle **for** para agregar caracteres aleatorios de la cadena `caracteres` hasta que la longitud restante se haya alcanzado.\n",
    "\n",
    "- **Mezcla de Caracteres**: Después de construir la contraseña, la mezclamos aleatoriamente para que los caracteres estén en un orden aleatorio.\n",
    "\n",
    "- **Retorno de la Contraseña**: Finalmente, la función devuelve la contraseña generada.\n",
    "\n",
    "- **Solicitud de Longitud Deseada**: Solicitamos al usuario la longitud deseada para la contraseña utilizando la función `input`.\n",
    "\n",
    "- **Generación de Contraseña**: Llamamos a la función `generar_contrasena` con la longitud especificada y almacenamos la contraseña generada en la variable `contrasena_generada`.\n",
    "\n",
    "- **Impresión de la Contraseña**: Imprimimos la contraseña generada en la pantalla.\n",
    "\n",
    "Esta estructura asegura que las contraseñas generadas cumplan con ciertos requisitos de seguridad, al tiempo que permite al usuario personalizar la longitud de la contraseña según sus necesidades."
   ]
  },
  {
   "cell_type": "markdown",
   "metadata": {},
   "source": [
    "## 4. Mejoras en la Seguridad en la Versión 2.0\n",
    "---\n",
    "La Versión 2.0 del Generador de Contraseñas lleva la seguridad a un nivel superior. Ahora, no solo generamos contraseñas aleatorias, sino que también nos aseguramos de que cumplan con criterios de complejidad adicionales. Esto hace que la Versión 2.0 sea una elección aún más confiable para la generación de contraseñas sólidas y seguras.\n",
    "\n",
    "**Contraseñas Más Complejas**\n",
    "En la Versión 2.0, hemos introducido requisitos obligatorios para las contraseñas. Cada contraseña generada debe contener al menos una letra minúscula, una mayúscula, un número y un carácter especial. Esto significa que las contraseñas no solo son aleatorias, sino que también siguen un patrón específico que hace que sean más complejas y difíciles de adivinar.\n",
    "\n",
    "**Protección Adicional**\n",
    "Estos requisitos adicionales añaden una capa adicional de protección para tus cuentas en línea. Las contraseñas generadas no solo son fuertes, sino que también son versátiles y resistentes a una amplia gama de ataques cibernéticos. Al cumplir con criterios de complejidad específicos, estas contraseñas son más confiables que nunca.\n",
    "\n",
    "Con la Versión 2.0, puedes estar seguro de que estás tomando medidas sólidas para proteger tus cuentas en línea. Ya no se trata solo de aleatoriedad; se trata de contraseñas fuertes que cumplen con estándares de seguridad más altos."
   ]
  },
  {
   "cell_type": "markdown",
   "metadata": {},
   "source": [
    "## 5. Preparándonos para la Versión 3.0\n",
    "---\n",
    "Hasta ahora, has conocido las mejoras emocionantes que la Versión 2.0 del Generador de Contraseñas trajo consigo. Pero nuestra búsqueda de la perfección en la seguridad y la versatilidad no se detiene aquí.\n",
    "\n",
    "La `Versión 3.0` está en camino, y viene cargada de innovación y características emocionantes que te ayudarán a proteger tus cuentas en línea de manera aún más efectiva. ¿Qué puedes esperar de la Versión 3.0? ¡Descúbrelo ahora!\n",
    "\n",
    "[**¡Explora la Versión 3.0!**]()"
   ]
  }
 ],
 "metadata": {
  "kernelspec": {
   "display_name": "Python 3",
   "language": "python",
   "name": "python3"
  },
  "language_info": {
   "codemirror_mode": {
    "name": "ipython",
    "version": 3
   },
   "file_extension": ".py",
   "mimetype": "text/x-python",
   "name": "python",
   "nbconvert_exporter": "python",
   "pygments_lexer": "ipython3",
   "version": "3.10.11"
  },
  "orig_nbformat": 4
 },
 "nbformat": 4,
 "nbformat_minor": 2
}
